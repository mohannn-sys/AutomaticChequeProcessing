{
  "cells": [
    {
      "cell_type": "markdown",
      "metadata": {
        "id": "8T764_igiJ7E"
      },
      "source": [
        "# Project\n",
        "1.  **Project Title**: CheckMate: Automated Bank Check Processor\n",
        "\n",
        "2.  **Project Statement and Outcomes:**\n",
        "\n",
        "<!-- -->\n",
        "\n",
        "1.  The objective of this project is to develop a Python software that\n",
        "    automates the extraction of individual bank cheque details from\n",
        "    scanned PDF pages. The software will identify and isolate each\n",
        "    cheque, saving it as a separate image file. Furthermore, it will\n",
        "    utilize optical character recognition (OCR) techniques to extract\n",
        "    pertinent information such as payee, amount, name, and other\n",
        "    essential details from each cheque. The primary aim is to streamline\n",
        "    the cheque processing workflow by eliminating manual efforts,\n",
        "    thereby saving time and resources for users dealing with large\n",
        "    volumes of cheques.\n",
        "\n",
        "2.  The outcome of this project will be a robust software solution\n",
        "    capable of efficiently handling large volumes of cheques. The\n",
        "    software will automatically extract individual cheques from scanned\n",
        "    PDF pages and save them as separate image files. Later, it will\n",
        "    extract relevant information from each cheque using OCR technology,\n",
        "    like payee, amount, name, and other essential information into a CSV\n",
        "    file or Analytical dashboard. This automated solution will\n",
        "    significantly reduce the time and effort required for cheque\n",
        "    processing, enhancing overall workflow efficiency and productivity\n",
        "    for users.\n",
        "\n",
        "<!-- -->\n",
        "\n",
        "3.  **Modules to be Implemented:**\n",
        "\n",
        "-   PDF Parsing Module\n",
        "\n",
        "-   Image Extraction Module\n",
        "\n",
        "-   OCR (Optical Character Recognition) Module\n",
        "\n",
        "-   Data Parsing and Validation Module\n",
        "\n",
        "-   Data Storage and Management Module\n",
        "\n",
        "-   User Management & Interface Module\n",
        "\n",
        "-   Review, Bug Fixes, Documentation\n",
        "\n",
        "4.  **Week-wise module implementation and high-level requirements:**\n",
        "\n",
        "-   Week 1-2:\n",
        "\n",
        "> Module Implementation - PDF Parsing and Image Extraction\n",
        ">\n",
        "> High-level Requirements:\n",
        "\n",
        "-   Setup development environment.\n",
        "\n",
        "-   Install libraries for PDF parsing.\n",
        "\n",
        "-   Implement PDF parsing to identify cheque images.\n",
        "\n",
        "-   Develop algorithms for cheque image extraction.\n",
        "\n",
        "-   Ensure image quality and accuracy.\n",
        "\n",
        "-   Handle extraction errors effectively.\n",
        "\n",
        "-   Week 3-4:\n",
        "\n",
        "> Module Implementation - OCR, Data Parsing, Validation and Storage\n",
        ">\n",
        "> High-level Requirements:\n",
        "\n",
        "-   Integrate OCR for text extraction.\n",
        "\n",
        "-   Parse extracted data (Date, Account no., cheque no., Bank name,Payee\n",
        "    name, Amount, etc.).\n",
        "\n",
        "-   Handle variations in text formatting.\n",
        "\n",
        "-   Implement validation cheques for data accuracy.\n",
        "\n",
        "-   Design and implement Database.\n",
        "\n",
        "<!-- -->\n",
        "\n",
        "-   Week 5-6:\n",
        "\n",
        "> Module Implementation - User Management & Interface Module\n",
        ">\n",
        "> High-level Requirements:\n",
        "\n",
        "-   Develop forms for User Registration and Login.\n",
        "\n",
        "-   Allow Users to upload PDFs securely and handle file limitations.\n",
        "\n",
        "-   Design a user-friendly interface for interaction for the above\n",
        "    usecase.\n",
        "\n",
        "-   Provide export as CSV or PDF functionality.\n",
        "\n",
        "-   Week 7-8:Review, Bug Fixes, Documentation\n",
        "\n",
        "> High-level Requirements:\n",
        "\n",
        "-   Conduct a thorough review of the entire system, including\n",
        "    functionality, security, and user interface.\n",
        "\n",
        "-   Address any identified bugs or issues and perform necessary fixes.\n",
        "\n",
        "-   Prepare comprehensive documentation covering system architecture,\n",
        "    user guides, and technical specifications.\n",
        "\n",
        "5.  **Diagrams:**\n",
        "\n",
        "-   Flowchart\n",
        "\n",
        "\n",
        "6.  **Output:**\n",
        "\n",
        "> A CSV file with the details extracted from the cheques.\n",
        "\n"
      ]
    },
    {
      "cell_type": "markdown",
      "metadata": {
        "id": "7k-HMczSUCdz"
      },
      "source": [
        "# Resources\n",
        "+ Github Projects:\n",
        "    + [Cheque Data Extraction using Python and Tesseract OCR](https://github.com/VasudhaSingh22/Image-OCR)\n",
        "    + [OCR-Checks](https://github.com/ichrakromdhani/OCR-Checks)\n",
        "    + [What_is_OCR](https://github.com/ZackTanCZ/What_is_OCR)\n",
        "    + [Link](https://github.com/naikshubham/Bank-Cheque-OCR)\n",
        "    + [Link](https://github.com/Surbh77/Cheque-data-extraction)\n",
        "+ Research Paper:\n",
        "    + [OCR based Cheque Validation using Image Processing](https://www.semanticscholar.org/paper/OCR-based-Cheque-Validation-using-Image-Processing-Kunekar-Vayadande/670f8a3d937b123d51256fef04416cf5775271dd)"
      ]
    },
    {
      "cell_type": "code",
      "execution_count": 1,
      "metadata": {
        "colab": {
          "base_uri": "https://localhost:8080/"
        },
        "id": "u-eCcnfDeZXi",
        "outputId": "860607e8-aa9a-4ee2-ee81-ee32d3653be6"
      },
      "outputs": [
        {
          "output_type": "stream",
          "name": "stdout",
          "text": [
            "Drive already mounted at /content/drive; to attempt to forcibly remount, call drive.mount(\"/content/drive\", force_remount=True).\n"
          ]
        }
      ],
      "source": [
        "#from google.colab import drive\n",
        "#drive.mount('/content/drive')"
      ]
    },
    {
      "cell_type": "code",
      "execution_count": 2,
      "metadata": {
        "colab": {
          "base_uri": "https://localhost:8080/"
        },
        "id": "mL5iCRRkjNC1",
        "outputId": "d5202803-5a3d-40db-c39a-cedd43cdf132"
      },
      "outputs": [
        {
          "output_type": "stream",
          "name": "stdout",
          "text": [
            "Collecting pymupdf\n",
            "  Downloading PyMuPDF-1.24.14-cp39-abi3-manylinux2014_x86_64.manylinux_2_17_x86_64.whl.metadata (3.4 kB)\n",
            "Downloading PyMuPDF-1.24.14-cp39-abi3-manylinux2014_x86_64.manylinux_2_17_x86_64.whl (19.8 MB)\n",
            "\u001b[2K   \u001b[90m━━━━━━━━━━━━━━━━━━━━━━━━━━━━━━━━━━━━━━━━\u001b[0m \u001b[32m19.8/19.8 MB\u001b[0m \u001b[31m44.9 MB/s\u001b[0m eta \u001b[36m0:00:00\u001b[0m\n",
            "\u001b[?25hInstalling collected packages: pymupdf\n",
            "Successfully installed pymupdf-1.24.14\n"
          ]
        }
      ],
      "source": [
        "#!pip install pymupdf"
      ]
    },
    {
      "cell_type": "code",
      "execution_count": 5,
      "metadata": {
        "id": "8x3sE7GBY14C"
      },
      "outputs": [],
      "source": [
        "import fitz\n",
        "import os\n",
        "from pathlib import Path\n",
        "\n",
        "def extract_images_from_pdf(pdf_path, output_dir='./Images'):\n",
        "    \"\"\"\n",
        "    Extract images from a PDF file and save them as PNG files.\n",
        "\n",
        "    Args:\n",
        "        pdf_path (str): Path to the PDF file\n",
        "        output_dir (str): Directory where images will be saved\n",
        "\n",
        "    Returns:\n",
        "        list: List of paths to saved image files\n",
        "\n",
        "    Raises:\n",
        "        FileNotFoundError: If PDF file doesn't exist\n",
        "        PermissionError: If output directory can't be created\n",
        "        ValueError: If PDF file is invalid\n",
        "    \"\"\"\n",
        "    # Validate PDF file exists\n",
        "    if not os.path.exists(pdf_path):\n",
        "        raise FileNotFoundError(f\"PDF file not found: {pdf_path}\")\n",
        "\n",
        "    # Create output directory if it doesn't exist\n",
        "    output_path = Path(output_dir)\n",
        "    output_path.mkdir(parents=True, exist_ok=True)\n",
        "\n",
        "    saved_images = []\n",
        "    xrefs_set = set()  # Track image reference numbers\n",
        "    image_counter = 1\n",
        "\n",
        "    try:\n",
        "        # Open PDF file\n",
        "        pdf_document = fitz.open(pdf_path)\n",
        "\n",
        "        # Iterate through pages\n",
        "        for page_num in range(pdf_document.page_count):\n",
        "            page = pdf_document[page_num]\n",
        "\n",
        "            # Get images from page\n",
        "            image_list = page.get_images()\n",
        "\n",
        "            # Process each image\n",
        "            for img_index, img in enumerate(image_list):\n",
        "                xref = img[0]  # Get the image reference number\n",
        "\n",
        "                # Skip if we've already extracted the image\n",
        "                if xref in xrefs_set:\n",
        "                    continue\n",
        "\n",
        "                # Add image reference number to the set\n",
        "                xrefs_set.add(xref)\n",
        "\n",
        "                # Extract and save the image\n",
        "                base_image = pdf_document.extract_image(xref)\n",
        "                image_bytes = base_image[\"image\"]\n",
        "\n",
        "                # Generate name and path for image\n",
        "                image_filename = f\"image_{image_counter:03d}.png\"\n",
        "                image_path = output_path / image_filename\n",
        "\n",
        "                # Save image\n",
        "                with open(image_path, \"wb\") as img_file:\n",
        "                    img_file.write(image_bytes)\n",
        "\n",
        "                saved_images.append(str(image_path))\n",
        "                image_counter += 1\n",
        "\n",
        "        return saved_images\n",
        "\n",
        "    except fitz.FileDataError:\n",
        "        raise ValueError(\"Invalid or corrupted PDF file\")\n",
        "    finally:\n",
        "        if 'pdf_document' in locals():\n",
        "            pdf_document.close()"
      ]
    },
    {
      "cell_type": "code",
      "execution_count": 6,
      "metadata": {
        "id": "doH-S1cfNYCl",
        "colab": {
          "base_uri": "https://localhost:8080/"
        },
        "outputId": "25ba30aa-0c5e-4cd5-a8ee-f280f570157c"
      },
      "outputs": [
        {
          "output_type": "stream",
          "name": "stdout",
          "text": [
            "Successfully extracted 7 images\n",
            "Saved: /content/Images/image_001.png\n",
            "Saved: /content/Images/image_002.png\n",
            "Saved: /content/Images/image_003.png\n",
            "Saved: /content/Images/image_004.png\n",
            "Saved: /content/Images/image_005.png\n",
            "Saved: /content/Images/image_006.png\n",
            "Saved: /content/Images/image_007.png\n"
          ]
        }
      ],
      "source": [
        "# Example usage\n",
        "pdf_path = \"/content/drive/MyDrive/Colab Notebooks/ChequeDetails/cheques.pdf\"\n",
        "output_directory = \"/content/Images\"\n",
        "\n",
        "try:\n",
        "    saved_image_paths = extract_images_from_pdf(pdf_path, output_directory)\n",
        "    print(f\"Successfully extracted {len(saved_image_paths)} images\")\n",
        "    for path in saved_image_paths:\n",
        "        print(f\"Saved: {path}\")\n",
        "except Exception as e:\n",
        "    print(f\"Error: {e}\")"
      ]
    },
    {
      "cell_type": "code",
      "source": [],
      "metadata": {
        "id": "EMcHIq--q0p2"
      },
      "execution_count": null,
      "outputs": []
    },
    {
      "cell_type": "markdown",
      "source": [
        "# Flowchart\n",
        "![Flowchart](https://drive.google.com/file/d/1L2VCVNcjug6RcsTDxKCaQijB16KrJ1uq/view?usp=sharing)\n"
      ],
      "metadata": {
        "id": "Tb_cUiCmlatw"
      }
    }
  ],
  "metadata": {
    "colab": {
      "provenance": []
    },
    "kernelspec": {
      "display_name": "Python 3",
      "name": "python3"
    },
    "language_info": {
      "name": "python"
    }
  },
  "nbformat": 4,
  "nbformat_minor": 0
}